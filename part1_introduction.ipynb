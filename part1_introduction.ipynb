{
 "cells": [
  {
   "cell_type": "markdown",
   "id": "d1f18081",
   "metadata": {},
   "source": [
    "# Part 1: Introduction to Classification & Evaluation\n",
    "\n",
    "**Objective:** Load the synthetic health data, train a Logistic Regression model, and evaluate its performance.\n",
    "\n",
    "## 1. Setup\n",
    "\n",
    "Import necessary libraries."
   ]
  },
  {
   "cell_type": "code",
   "execution_count": 12,
   "id": "4a0ef511",
   "metadata": {},
   "outputs": [],
   "source": [
    "import pandas as pd\n",
    "import numpy as np\n",
    "import os\n",
    "from sklearn.model_selection import train_test_split\n",
    "from sklearn.linear_model import LogisticRegression\n",
    "from sklearn.metrics import accuracy_score, precision_score, recall_score, f1_score, roc_auc_score, confusion_matrix\n",
    "from sklearn.impute import SimpleImputer\n",
    "import json"
   ]
  },
  {
   "cell_type": "markdown",
   "id": "3e486393",
   "metadata": {},
   "source": [
    "## 2. Data Loading\n",
    "\n",
    "Implement the `load_data` function to read the dataset."
   ]
  },
  {
   "cell_type": "code",
   "execution_count": 13,
   "id": "09c5d691",
   "metadata": {},
   "outputs": [],
   "source": [
    "def load_data(file_path):\n",
    "    \"\"\"\n",
    "    Load the synthetic health data from a CSV file.\n",
    "    \n",
    "    Args:\n",
    "        file_path: Path to the CSV file\n",
    "        \n",
    "    Returns:\n",
    "        DataFrame containing the data\n",
    "    \"\"\"\n",
    "    return pd.read_csv(file_path)\n",
    "df = load_data('data/synthetic_health_data.csv')"
   ]
  },
  {
   "cell_type": "markdown",
   "id": "c1763088",
   "metadata": {},
   "source": [
    "## 3. Data Preparation\n",
    "\n",
    "Implement `prepare_data_part1` to select features, split data, and handle missing values."
   ]
  },
  {
   "cell_type": "code",
   "execution_count": 14,
   "id": "240df4b4",
   "metadata": {},
   "outputs": [],
   "source": [
    "def prepare_data_part1(df, test_size=0.2, random_state=42):\n",
    "    \"\"\"\n",
    "    Prepare data for modeling: select features, split into train/test sets, handle missing values.\n",
    "    \n",
    "    Args:\n",
    "        df: Input DataFrame\n",
    "        test_size: Proportion of data for testing\n",
    "        random_state: Random seed for reproducibility\n",
    "        \n",
    "    Returns:\n",
    "        X_train, X_test, y_train, y_test\n",
    "    \"\"\"\n",
    "    X = df[['age', 'systolic_bp', 'diastolic_bp', 'glucose_level', 'bmi']]\n",
    "    Y = df[['disease_outcome']]\n",
    "    # 3. Split data into training and testing sets\n",
    "    X_train, X_test, Y_train, Y_test = train_test_split(X, Y, test_size=test_size, random_state=random_state)\n",
    "    # 4. Handle missing values using \n",
    "    X_train = SimpleImputer(missing_values=np.nan, strategy='mean').fit_transform(X_train)\n",
    "    X_test = SimpleImputer(missing_values=np.nan, strategy='mean').fit_transform(X_test)\n",
    "    Y_train = SimpleImputer(missing_values=np.nan, strategy='mean').fit_transform(Y_train)\n",
    "    Y_test = SimpleImputer(missing_values=np.nan, strategy='mean').fit_transform(Y_test)\n",
    "    \n",
    "    return X_train, X_test, Y_train, Y_test"
   ]
  },
  {
   "cell_type": "markdown",
   "id": "10757ebf",
   "metadata": {},
   "source": [
    "## 4. Model Training\n",
    "\n",
    "Implement `train_logistic_regression`."
   ]
  },
  {
   "cell_type": "code",
   "execution_count": 15,
   "id": "4ac372ef",
   "metadata": {},
   "outputs": [],
   "source": [
    "def train_logistic_regression(X_train, y_train):\n",
    "    \"\"\"\n",
    "    Train a logistic regression model.\n",
    "    \n",
    "    Args:\n",
    "        X_train: Training features\n",
    "        y_train: Training target\n",
    "        \n",
    "    Returns:\n",
    "        Trained logistic regression model\n",
    "    \"\"\"\n",
    "    return LogisticRegression().fit(X_train, y_train)"
   ]
  },
  {
   "cell_type": "markdown",
   "id": "bc2bcd9c",
   "metadata": {},
   "source": [
    "## 5. Model Evaluation\n",
    "\n",
    "Implement `calculate_evaluation_metrics` to assess the model's performance."
   ]
  },
  {
   "cell_type": "code",
   "execution_count": 16,
   "id": "b1ad9119",
   "metadata": {},
   "outputs": [],
   "source": [
    "def calculate_evaluation_metrics(model, X_test, y_test):\n",
    "    \"\"\"\n",
    "    Calculate classification evaluation metrics.\n",
    "    \n",
    "    Args:\n",
    "        model: Trained model\n",
    "        X_test: Test features\n",
    "        y_test: Test target\n",
    "        \n",
    "    Returns:\n",
    "        Dictionary containing accuracy, precision, recall, f1, auc, and confusion_matrix\n",
    "    \"\"\"\n",
    "    # YOUR CODE HERE\n",
    "    # 1. Generate predictions\n",
    "    preds = model.predict(X_test)\n",
    "    \n",
    "    return {\n",
    "        \"accuracy\": accuracy_score(y_test, preds),\n",
    "        \"precision\": precision_score(y_test, preds),\n",
    "        \"recall\": recall_score(y_test, preds),\n",
    "        \"f1\": f1_score(y_test, preds),\n",
    "        \"auc\": roc_auc_score(y_test, preds),\n",
    "        \"confusion_matrix\": confusion_matrix(y_test, preds),\n",
    "    }"
   ]
  },
  {
   "cell_type": "markdown",
   "id": "2a60d09d",
   "metadata": {},
   "source": [
    "## 6. Save Results\n",
    "\n",
    "Save the calculated metrics to a text file."
   ]
  },
  {
   "cell_type": "code",
   "execution_count": 17,
   "id": "a0035f45",
   "metadata": {},
   "outputs": [],
   "source": [
    "# Create results directory and save metrics\n",
    "# YOUR CODE HERE\n",
    "# 1. Create 'results' directory if it doesn't exist\n",
    "# 2. Format metrics as strings\n",
    "# 3. Write metrics to 'results/results_part1.txt'\n",
    "def save_results(results):\n",
    "    if not os.path.exists('results'):\n",
    "        os.mkdir('results')\n",
    "    with open('results/results_part1.txt', 'w') as f:\n",
    "        json.dump(results, f)\n"
   ]
  },
  {
   "cell_type": "markdown",
   "id": "4e938c38",
   "metadata": {},
   "source": [
    "## 8. Interpret Results\n",
    "\n",
    "Implement a function to analyze the model performance on imbalanced data.\n"
   ]
  },
  {
   "cell_type": "code",
   "execution_count": 18,
   "id": "f203f6f0",
   "metadata": {},
   "outputs": [],
   "source": [
    "def interpret_results(metrics):\n",
    "    \"\"\"\n",
    "    Analyze model performance on imbalanced data.\n",
    "    \n",
    "    Args:\n",
    "        metrics: Dictionary containing evaluation metrics\n",
    "        \n",
    "    Returns:\n",
    "        Dictionary with keys:\n",
    "        - 'best_metric': Name of the metric that performed best\n",
    "        - 'worst_metric': Name of the metric that performed worst\n",
    "        - 'imbalance_impact_score': A score from 0-1 indicating how much\n",
    "          the class imbalance affected results (0=no impact, 1=severe impact)\n",
    "    \"\"\"\n",
    "    best_metric = list(metrics.keys())[0]\n",
    "    worst_metric = list(metrics.keys())[0]\n",
    "\n",
    "    for m in metrics:\n",
    "        if metrics[best_metric] < metrics[m]:\n",
    "            best_metric = m\n",
    "        if metrics[worst_metric] > metrics[m]:\n",
    "            worst_metric = m\n",
    "    \n",
    "    # Placeholder return - replace with your implementation\n",
    "    return {\n",
    "        'best_metric': best_metric,\n",
    "        'worst_metric': worst_metric,\n",
    "        'imbalance_impact_score': metrics['accuracy'] - metrics['f1']\n",
    "    }"
   ]
  },
  {
   "cell_type": "markdown",
   "id": "33e0fef3",
   "metadata": {},
   "source": [
    "## 7. Main Execution\n",
    "\n",
    "Run the complete workflow.\n"
   ]
  },
  {
   "cell_type": "code",
   "execution_count": 19,
   "id": "86f1ef32",
   "metadata": {},
   "outputs": [
    {
     "name": "stdout",
     "output_type": "stream",
     "text": [
      "accuracy: 0.9168\n",
      "precision: 0.6615\n",
      "recall: 0.3007\n",
      "f1: 0.4135\n",
      "auc: 0.6420\n",
      "\n",
      "Results Interpretation:\n",
      "best_metric: accuracy\n",
      "worst_metric: recall\n",
      "imbalance_impact_score: 0.5033188162451464\n"
     ]
    },
    {
     "name": "stderr",
     "output_type": "stream",
     "text": [
      "/home/codespace/.local/lib/python3.12/site-packages/sklearn/utils/validation.py:1408: DataConversionWarning: A column-vector y was passed when a 1d array was expected. Please change the shape of y to (n_samples, ), for example using ravel().\n",
      "  y = column_or_1d(y, warn=True)\n"
     ]
    }
   ],
   "source": [
    "# Main execution\n",
    "if __name__ == \"__main__\":\n",
    "    # 1. Load data\n",
    "    data_file = 'data/synthetic_health_data.csv'\n",
    "    df = load_data(data_file)\n",
    "    \n",
    "    # 2. Prepare data\n",
    "    X_train, X_test, y_train, y_test = prepare_data_part1(df)\n",
    "    \n",
    "    # 3. Train model\n",
    "    model = train_logistic_regression(X_train, y_train)\n",
    "    \n",
    "    # 4. Evaluate model\n",
    "    metrics = calculate_evaluation_metrics(model, X_test, y_test)\n",
    "    \n",
    "    # 5. Print metrics\n",
    "    for metric, value in metrics.items():\n",
    "        if metric != 'confusion_matrix':\n",
    "            print(f\"{metric}: {value:.4f}\")\n",
    "    del metrics['confusion_matrix']\n",
    "    \n",
    "    # 6. Save results\n",
    "    save_results(metrics)\n",
    "    \n",
    "    # 7. Interpret results\n",
    "    interpretation = interpret_results(metrics)\n",
    "    print(\"\\nResults Interpretation:\")\n",
    "    for key, value in interpretation.items():\n",
    "        print(f\"{key}: {value}\")"
   ]
  },
  {
   "cell_type": "code",
   "execution_count": null,
   "id": "639286bc",
   "metadata": {},
   "outputs": [],
   "source": []
  }
 ],
 "metadata": {
  "kernelspec": {
   "display_name": "Python 3",
   "language": "python",
   "name": "python3"
  },
  "language_info": {
   "codemirror_mode": {
    "name": "ipython",
    "version": 3
   },
   "file_extension": ".py",
   "mimetype": "text/x-python",
   "name": "python",
   "nbconvert_exporter": "python",
   "pygments_lexer": "ipython3",
   "version": "3.12.1"
  }
 },
 "nbformat": 4,
 "nbformat_minor": 5
}
