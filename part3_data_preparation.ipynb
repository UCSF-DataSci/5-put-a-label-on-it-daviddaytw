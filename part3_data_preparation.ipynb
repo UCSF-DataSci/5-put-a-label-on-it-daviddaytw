{
 "cells": [
  {
   "cell_type": "markdown",
   "id": "14559e9d",
   "metadata": {},
   "source": [
    "# Part 3: Practical Data Preparation\n",
    "\n",
    "**Objective:** Handle categorical features using One-Hot Encoding and address class imbalance using SMOTE.\n",
    "\n",
    "## 1. Setup\n",
    "\n",
    "Import necessary libraries."
   ]
  },
  {
   "cell_type": "code",
   "execution_count": 163,
   "id": "d2dcba9e",
   "metadata": {},
   "outputs": [],
   "source": [
    "import pandas as pd\n",
    "import numpy as np\n",
    "import os\n",
    "from sklearn.model_selection import train_test_split\n",
    "from sklearn.preprocessing import OneHotEncoder\n",
    "from sklearn.linear_model import LogisticRegression\n",
    "from sklearn.metrics import accuracy_score, precision_score, recall_score, f1_score, roc_auc_score, confusion_matrix\n",
    "from sklearn.impute import SimpleImputer\n",
    "from imblearn.over_sampling import SMOTE\n",
    "import json"
   ]
  },
  {
   "cell_type": "markdown",
   "id": "787efd62",
   "metadata": {},
   "source": [
    "\n",
    "## 2. Data Loading\n",
    "\n",
    "Load the dataset.\n"
   ]
  },
  {
   "cell_type": "code",
   "execution_count": 164,
   "id": "327fd72d",
   "metadata": {},
   "outputs": [],
   "source": [
    "def load_data(file_path):\n",
    "    \"\"\"\n",
    "    Load the synthetic health data from a CSV file.\n",
    "    \n",
    "    Args:\n",
    "        file_path: Path to the CSV file\n",
    "        \n",
    "    Returns:\n",
    "        DataFrame containing the data\n",
    "    \"\"\"\n",
    "    return pd.read_csv(file_path)\n"
   ]
  },
  {
   "cell_type": "markdown",
   "id": "f9eeb8cd",
   "metadata": {},
   "source": [
    "\n",
    "## 3. Categorical Feature Encoding\n",
    "\n",
    "Implement `encode_categorical_features` using `OneHotEncoder`.\n"
   ]
  },
  {
   "cell_type": "code",
   "execution_count": 165,
   "id": "262992d5",
   "metadata": {},
   "outputs": [],
   "source": [
    "def encode_categorical_features(df, column_to_encode='smoker_status'):\n",
    "    \"\"\"\n",
    "    Encode a categorical column using OneHotEncoder.\n",
    "    \n",
    "    Args:\n",
    "        df: Input DataFrame\n",
    "        column_to_encode: Name of the categorical column to encode\n",
    "        \n",
    "    Returns:\n",
    "        DataFrame with the categorical column replaced by one-hot encoded columns\n",
    "    \"\"\"\n",
    "    # YOUR CODE HERE\n",
    "    # 1. Extract the categorical column\n",
    "    col = df[[column_to_encode]]\n",
    "    # 2. Apply OneHotEncoder\n",
    "    coded = OneHotEncoder().fit_transform(col)\n",
    "    # 3. Create new column names\n",
    "    for i in range(coded.shape[-1]):\n",
    "        df[column_to_encode + '_' + str(i)] = coded.toarray()[:, i]\n",
    "    # 4. Replace the original categorical column with the encoded columns\n",
    "    df = df.drop([column_to_encode], axis=1)\n",
    "\n",
    "    return df"
   ]
  },
  {
   "cell_type": "markdown",
   "id": "86f71e9d",
   "metadata": {},
   "source": [
    "\n",
    "## 4. Data Preparation\n",
    "\n",
    "Implement `prepare_data_part3` to handle the train/test split correctly.\n"
   ]
  },
  {
   "cell_type": "code",
   "execution_count": 166,
   "id": "f183a381",
   "metadata": {},
   "outputs": [],
   "source": [
    "def prepare_data_part3(df, test_size=0.2, random_state=42):\n",
    "    \"\"\"\n",
    "    Prepare data with categorical encoding.\n",
    "    \n",
    "    Args:\n",
    "        df: Input DataFrame\n",
    "        test_size: Proportion of data for testing\n",
    "        random_state: Random seed for reproducibility\n",
    "        \n",
    "    Returns:\n",
    "        X_train, X_test, y_train, y_test\n",
    "    \"\"\"\n",
    "    # YOUR CODE HERE\n",
    "    # 1. Encode categorical features using the encode_categorical_features function\n",
    "    edf = encode_categorical_features(df)\n",
    "    # 2. Select relevant features (including the one-hot encoded ones) and the target\n",
    "    X = edf[['age', 'systolic_bp', 'diastolic_bp', 'glucose_level', 'bmi', 'heart_rate', 'smoker_status_0', 'smoker_status_1', 'smoker_status_2']]\n",
    "    y = edf[['disease_outcome']]\n",
    "    # 3. Split data into training and testing sets\n",
    "    X_train, X_test, Y_train, Y_test = train_test_split(X, y, test_size=test_size, random_state=random_state)\n",
    "    # 4. Handle missing values\n",
    "    X_train = SimpleImputer(missing_values=np.nan, strategy='mean').fit_transform(X_train)\n",
    "    X_test = SimpleImputer(missing_values=np.nan, strategy='mean').fit_transform(X_test)\n",
    "    Y_train = SimpleImputer(missing_values=np.nan, strategy='mean').fit_transform(Y_train)\n",
    "    Y_test = SimpleImputer(missing_values=np.nan, strategy='mean').fit_transform(Y_test)\n",
    "    \n",
    "    # Placeholder return - replace with your implementation\n",
    "    return X_train, X_test, Y_train, Y_test\n"
   ]
  },
  {
   "cell_type": "markdown",
   "id": "124a0993",
   "metadata": {},
   "source": [
    "\n",
    "## 5. Handling Imbalanced Data\n",
    "\n",
    "Implement `apply_smote` to oversample the minority class.\n"
   ]
  },
  {
   "cell_type": "code",
   "execution_count": 167,
   "id": "ded04963",
   "metadata": {},
   "outputs": [],
   "source": [
    "\n",
    "def apply_smote(X_train, y_train, random_state=42):\n",
    "    \"\"\"\n",
    "    Apply SMOTE to oversample the minority class.\n",
    "    \n",
    "    Args:\n",
    "        X_train: Training features\n",
    "        y_train: Training target\n",
    "        random_state: Random seed for reproducibility\n",
    "        \n",
    "    Returns:\n",
    "        Resampled X_train and y_train with balanced classes\n",
    "    \"\"\"\n",
    "    return SMOTE(random_state=random_state).fit_resample(X_train, y_train)\n"
   ]
  },
  {
   "cell_type": "markdown",
   "id": "9146d344",
   "metadata": {},
   "source": [
    "\n",
    "## 6. Model Training and Evaluation\n",
    "\n",
    "Train a model on the SMOTE-resampled data and evaluate it.\n"
   ]
  },
  {
   "cell_type": "code",
   "execution_count": 168,
   "id": "bec10f5e",
   "metadata": {},
   "outputs": [],
   "source": [
    "\n",
    "def train_logistic_regression(X_train, y_train):\n",
    "    \"\"\"\n",
    "    Train a logistic regression model.\n",
    "    \n",
    "    Args:\n",
    "        X_train: Training features\n",
    "        y_train: Training target\n",
    "        \n",
    "    Returns:\n",
    "        Trained logistic regression model\n",
    "    \"\"\"\n",
    "    return LogisticRegression().fit(X_train, y_train)\n",
    "\n",
    "def calculate_evaluation_metrics(model, X_test, y_test):\n",
    "    \"\"\"\n",
    "    Calculate classification evaluation metrics.\n",
    "    \n",
    "    Args:\n",
    "        model: Trained model\n",
    "        X_test: Test features\n",
    "        y_test: Test target\n",
    "        \n",
    "    Returns:\n",
    "        Dictionary containing accuracy, precision, recall, f1, auc, and confusion_matrix\n",
    "    \"\"\"\n",
    "    preds = model.predict(X_test)\n",
    "    \n",
    "    return {\n",
    "        \"accuracy\": accuracy_score(y_test, preds),\n",
    "        \"precision\": precision_score(y_test, preds),\n",
    "        \"recall\": recall_score(y_test, preds),\n",
    "        \"f1\": f1_score(y_test, preds),\n",
    "        \"auc\": roc_auc_score(y_test, preds),\n",
    "        \"confusion_matrix\": confusion_matrix(y_test, preds),\n",
    "    }"
   ]
  },
  {
   "cell_type": "markdown",
   "id": "74fd8baf",
   "metadata": {},
   "source": [
    "\n",
    "## 7. Save Results\n",
    "\n",
    "Save the evaluation metrics to a text file.\n"
   ]
  },
  {
   "cell_type": "code",
   "execution_count": 169,
   "id": "3830bf39",
   "metadata": {},
   "outputs": [],
   "source": [
    "def save_result(result):\n",
    "    if not os.path.exists('results'):\n",
    "        os.mkdir('results')\n",
    "    with open('results/results_part3.txt', 'w') as f:\n",
    "        json.dump(result, f)"
   ]
  },
  {
   "cell_type": "markdown",
   "id": "22fba0f1",
   "metadata": {},
   "source": [
    "\n",
    "## 8. Main Execution\n",
    "\n",
    "Run the complete workflow.\n"
   ]
  },
  {
   "cell_type": "code",
   "execution_count": 170,
   "id": "576d2a16",
   "metadata": {},
   "outputs": [
    {
     "name": "stdout",
     "output_type": "stream",
     "text": [
      "accuracy: 0.7694\n",
      "precision: 0.2738\n",
      "recall: 0.8252\n",
      "f1: 0.4111\n",
      "auc: 0.7943\n",
      "\n",
      "Model Comparison (improvement percentages):\n",
      "accuracy: -0.16%\n",
      "precision: -0.59%\n",
      "recall: 1.74%\n",
      "f1: -0.01%\n",
      "auc: 0.24%\n"
     ]
    },
    {
     "name": "stderr",
     "output_type": "stream",
     "text": [
      "/home/codespace/.local/lib/python3.12/site-packages/sklearn/linear_model/_logistic.py:465: ConvergenceWarning: lbfgs failed to converge (status=1):\n",
      "STOP: TOTAL NO. OF ITERATIONS REACHED LIMIT.\n",
      "\n",
      "Increase the number of iterations (max_iter) or scale the data as shown in:\n",
      "    https://scikit-learn.org/stable/modules/preprocessing.html\n",
      "Please also refer to the documentation for alternative solver options:\n",
      "    https://scikit-learn.org/stable/modules/linear_model.html#logistic-regression\n",
      "  n_iter_i = _check_optimize_result(\n"
     ]
    }
   ],
   "source": [
    "# Main execution\n",
    "if __name__ == \"__main__\":\n",
    "    # 1. Load data\n",
    "    data_file = 'data/synthetic_health_data.csv'\n",
    "    df = load_data(data_file)\n",
    "    \n",
    "    # 2. Prepare data with categorical encoding\n",
    "    X_train, X_test, y_train, y_test = prepare_data_part3(df)\n",
    "    \n",
    "    # 3. Apply SMOTE to balance the training data\n",
    "    X_train_resampled, y_train_resampled = apply_smote(X_train, y_train)\n",
    "    \n",
    "    # 4. Train model on resampled data\n",
    "    model = train_logistic_regression(X_train_resampled, y_train_resampled)\n",
    "    \n",
    "    # 5. Evaluate on original test set\n",
    "    metrics = calculate_evaluation_metrics(model, X_test, y_test)\n",
    "    \n",
    "    # 6. Print metrics\n",
    "    for metric, value in metrics.items():\n",
    "        if metric != 'confusion_matrix':\n",
    "            print(f\"{metric}: {value:.4f}\")\n",
    "    del metrics['confusion_matrix']\n",
    "    \n",
    "    # 7. Save results\n",
    "    save_result(metrics)\n",
    "    \n",
    "    # 8. Load Part 1 results for comparison\n",
    "    import json\n",
    "    try:\n",
    "        with open('results/results_part1.txt', 'r') as f:\n",
    "            part1_metrics = json.load(f)\n",
    "        \n",
    "        # 9. Compare models\n",
    "        comparison = compare_models(part1_metrics, metrics)\n",
    "        print(\"\\nModel Comparison (improvement percentages):\")\n",
    "        for metric, improvement in comparison.items():\n",
    "            print(f\"{metric}: {improvement:.2f}%\")\n",
    "    except FileNotFoundError:\n",
    "        print(\"Part 1 results not found. Run part1_introduction.ipynb first.\")\n"
   ]
  },
  {
   "cell_type": "markdown",
   "id": "1ad16352",
   "metadata": {},
   "source": [
    "\n",
    "## 9. Compare Results\n",
    "\n",
    "Implement a function to compare model performance between balanced and imbalanced data.\n",
    "\n"
   ]
  },
  {
   "cell_type": "code",
   "execution_count": 171,
   "id": "cd8033cb",
   "metadata": {},
   "outputs": [],
   "source": [
    "def compare_models(part1_metrics, part3_metrics):\n",
    "    \"\"\"\n",
    "    Calculate percentage improvement between models trained on imbalanced vs. balanced data.\n",
    "    \n",
    "    Args:\n",
    "        part1_metrics: Dictionary containing evaluation metrics from Part 1 (imbalanced)\n",
    "        part3_metrics: Dictionary containing evaluation metrics from Part 3 (balanced)\n",
    "        \n",
    "    Returns:\n",
    "        Dictionary with metric names as keys and improvement percentages as values\n",
    "    \"\"\"\n",
    "    # YOUR CODE HERE\n",
    "    # 1. Calculate percentage improvement for each metric\n",
    "    # 2. Handle metrics where higher is better (most metrics) and where lower is better\n",
    "    # 3. Return a dictionary with metric names and improvement percentages\n",
    "    \n",
    "    # Placeholder return - replace with your implementation\n",
    "    return {\n",
    "        k: 100 * (part3_metrics[k]-part1_metrics[k]) / part1_metrics[k]\n",
    "        for k in part3_metrics\n",
    "    }"
   ]
  },
  {
   "cell_type": "code",
   "execution_count": null,
   "id": "96d79c06",
   "metadata": {},
   "outputs": [],
   "source": []
  }
 ],
 "metadata": {
  "kernelspec": {
   "display_name": "Python 3",
   "language": "python",
   "name": "python3"
  },
  "language_info": {
   "codemirror_mode": {
    "name": "ipython",
    "version": 3
   },
   "file_extension": ".py",
   "mimetype": "text/x-python",
   "name": "python",
   "nbconvert_exporter": "python",
   "pygments_lexer": "ipython3",
   "version": "3.12.1"
  }
 },
 "nbformat": 4,
 "nbformat_minor": 5
}
